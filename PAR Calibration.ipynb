{
 "cells": [
  {
   "cell_type": "code",
   "execution_count": 347,
   "id": "5312f8bb",
   "metadata": {},
   "outputs": [
    {
     "name": "stdout",
     "output_type": "stream",
     "text": [
      "<class 'pandas.core.frame.DataFrame'>\n",
      "DatetimeIndex: 203 entries, 2023-10-09 23:00:00 to 2023-10-18 09:00:00\n",
      "Freq: H\n",
      "Data columns (total 3 columns):\n",
      " #   Column  Non-Null Count  Dtype  \n",
      "---  ------  --------------  -----  \n",
      " 0   RED     203 non-null    float64\n",
      " 1   GREEN   203 non-null    float64\n",
      " 2   BLUE    203 non-null    float64\n",
      "dtypes: float64(3)\n",
      "memory usage: 6.3 KB\n",
      "<class 'pandas.core.frame.DataFrame'>\n",
      "DatetimeIndex: 203 entries, 2023-10-10 00:00:00 to 2023-10-18 10:00:00\n",
      "Freq: H\n",
      "Data columns (total 1 columns):\n",
      " #   Column  Non-Null Count  Dtype  \n",
      "---  ------  --------------  -----  \n",
      " 0   Volt    203 non-null    float64\n",
      "dtypes: float64(1)\n",
      "memory usage: 3.2 KB\n"
     ]
    }
   ],
   "source": [
    "import pandas as pd\n",
    "import numpy as np\n",
    "from sklearn.metrics import r2_score \n",
    "from sklearn.metrics import mean_squared_error\n",
    "dataControl = pd.read_csv('PARData_Control_202310181008.csv') #Read in data from CSV\n",
    "data = pd.read_csv('PARData_Test_202310181010.csv') #Read in data from CSV\n",
    "dataControl.columns = [\"Time\",\"Volt\"]\n",
    "\n",
    "\n",
    "data['time'] = pd.to_datetime(data['time'], format='%Y-%m-%d %H:%M:%S')\n",
    "data = data.sort_values(by='time', ascending=True)\n",
    "dataControl['Time'] = pd.to_datetime(dataControl['Time'], format='%Y-%m-%d %H:%M:%S')\n",
    "# print(dataControl)\n",
    "\n",
    "#RESAMPLE to 15 minute interval\n",
    "data = data.set_index('time')\n",
    "data = data.resample('1H').mean()\n",
    "data.dropna(axis='rows')\n",
    "\n",
    "dataControl = dataControl.set_index('Time')\n",
    "dataControl = dataControl.resample('1H').mean()\n",
    "dataControl.dropna(axis='rows')\n",
    "# print(dataControl)\n",
    "# print(data)\n",
    "data.info()\n",
    "dataControl.info()\n",
    "\n",
    "#DATA CLEANING/NORMALIZING\n",
    "par = dataControl['Volt'] - min(dataControl['Volt']) #Remove offset from ADC\n",
    "# par = par/np.nanmean(par) #Normalize\n",
    "par = par*100; #Convert to umol m^-2 s^-1\n",
    "dataControl.insert(1, 'PAR', par, True)\n",
    "\n",
    "# data[\"BLUE\"] = data[\"BLUE\"]/np.nanmean(data[\"BLUE\"]) #Normalize\n",
    "# data[\"RED\"] = data[\"RED\"]/np.nanmean(data[\"RED\"]) #Normalize\n",
    "# data[\"GREEN\"] = data[\"GREEN\"]/np.nanmean(data[\"GREEN\"]) #Normalize\n",
    "\n",
    "#GROUP \n",
    "dataTotal = data.join(dataControl)\n",
    "dataTotal = dataTotal.dropna(axis='rows')\n",
    "# dataTotal = dataTotal.loc['2023-10-12':'2023-10-15']\n",
    "dataTotal['PAR_EST'] = dataTotal[\"BLUE\"]*2391 #Use optimal scaling, found below\n",
    "# dataTotal['PAR_EST'] = dataTotal['PAR_EST']/np.nanmean(dataTotal['PAR_EST'])"
   ]
  },
  {
   "cell_type": "code",
   "execution_count": 372,
   "id": "8c2927c6",
   "metadata": {},
   "outputs": [
    {
     "name": "stdout",
     "output_type": "stream",
     "text": [
      "0.8396660518093897 -13.193555571354167 25.296185613020835 41.64748150891726\n"
     ]
    },
    {
     "data": {
      "image/png": "[encoded data removed]",
      "text/plain": [
       "<Figure size 432x288 with 1 Axes>"
      ]
     },
     "metadata": {
      "needs_background": "light"
     },
     "output_type": "display_data"
    }
   ],
   "source": [
    "import matplotlib.pyplot as plt\n",
    "dataPlot = dataTotal.loc['2023-10-12':'2023-10-15'] #Subsample of data for plotting/analysis\n",
    "# dataPlot = dataTotal #Use all data\n",
    "# dataPlot = dataPlot.resample('1H').mean()\n",
    "# dataPlot['PAR_EST'] = dataPlot['PAR_EST']/np.nanmean(dataPlot['PAR_EST'])\n",
    "\n",
    "ax = dataPlot.plot(y = [\"PAR_EST\", \"PAR\"], use_index=True)\n",
    "plt.ylabel(r'$PAR\\ [\\mu\\ mol\\ m^{-2}\\ s^{-1}]$')\n",
    "r_squared = r2_score(dataPlot[\"PAR\"], dataPlot[\"PAR_EST\"])\n",
    "ME = np.mean(dataPlot[\"PAR\"] - dataPlot[\"PAR_EST\"])\n",
    "MAE = np.mean(abs(dataPlot[\"PAR\"] - dataPlot[\"PAR_EST\"]))\n",
    "\n",
    "RMSE = mean_squared_error(dataPlot[\"PAR\"], dataPlot[\"PAR_EST\"],squared=False)\n",
    "print(r_squared, ME, MAE, RMSE)\n",
    "\n",
    "ax.figure.savefig(\"PAR_Compare_DiffuseOnly.pdf\", bbox_inches =\"tight\", pad_inches = 0.25, dpi = 300,transparent = False)"
   ]
  },
  {
   "cell_type": "code",
   "execution_count": 237,
   "id": "49daf4f7",
   "metadata": {},
   "outputs": [
    {
     "name": "stdout",
     "output_type": "stream",
     "text": [
      "0.7992414344663561 99 1\n"
     ]
    }
   ],
   "source": [
    "#FIND OPTIMAL COEFFICIENTS \n",
    "r_max = 0\n",
    "a_max = 0\n",
    "b_max = 0\n",
    "for a in range(100):\n",
    "    for b in range(100):\n",
    "        dataTotal['PAR_EST'] = a*dataTotal[\"TCS3400.0.LIGHT_BLUE\"] + b*dataTotal[\"TCS3400.0.LIGHT_RED\"]\n",
    "        dataTotal['PAR_EST'] = dataTotal['PAR_EST']/statistics.mean(dataTotal['PAR_EST'])\n",
    "        if a != 0 and b != 0:\n",
    "            r_squared = r2_score(dataTotal[\"PAR\"], dataTotal[\"PAR_EST\"])\n",
    "            if r_squared > r_max:\n",
    "                r_max = r_squared\n",
    "                a_max = a\n",
    "                b_max = b\n",
    "print(r_max, a_max, b_max)\n",
    "    "
   ]
  },
  {
   "cell_type": "code",
   "execution_count": 311,
   "id": "96786c4a",
   "metadata": {},
   "outputs": [
    {
     "name": "stdout",
     "output_type": "stream",
     "text": [
      "0.6223423194675834 2391\n"
     ]
    }
   ],
   "source": [
    "#FIND OPTIMAL BLUE MULTIPLE\n",
    "r_max = 0\n",
    "a_max = 0\n",
    "for a in range(100, 10000):\n",
    "    dataTotal['PAR_EST'] = a*dataTotal[\"BLUE\"]\n",
    "#     dataTotal['PAR_EST'] = dataTotal['PAR_EST']/statistics.mean(dataTotal['PAR_EST'])\n",
    "    r_squared = r2_score(dataTotal[\"PAR\"], dataTotal[\"PAR_EST\"])\n",
    "    if r_squared > r_max:\n",
    "        r_max = r_squared\n",
    "        a_max = a\n",
    "print(r_max, a_max)"
   ]
  },
  {
   "cell_type": "code",
   "execution_count": null,
   "id": "8f8f0d1e",
   "metadata": {},
   "outputs": [],
   "source": []
  }
 ],
 "metadata": {
  "kernelspec": {
   "display_name": "Python 3 (ipykernel)",
   "language": "python",
   "name": "python3"
  },
  "language_info": {
   "codemirror_mode": {
    "name": "ipython",
    "version": 3
   },
   "file_extension": ".py",
   "mimetype": "text/x-python",
   "name": "python",
   "nbconvert_exporter": "python",
   "pygments_lexer": "ipython3",
   "version": "3.9.7"
  }
 },
 "nbformat": 4,
 "nbformat_minor": 5
}
